{
 "cells": [
  {
   "cell_type": "code",
   "execution_count": null,
   "id": "cc20bf42",
   "metadata": {},
   "outputs": [],
   "source": [
    "import pandas as pd\n",
    "from pathlib import Path\n",
    "%matplotlib inline\n",
    "import matplotlib.pyplot as plt\n",
    "import panel as pn\n",
    "from panel.interact import interact\n",
    "pn.extension(\"plotly\")\n",
    "import numpy as np\n",
    "import seaborn as sns\n",
    "from MCForecastTools import MCSimulation\n",
    "from dotenv import load_dotenv\n",
    "import os\n",
    "import plotly.express as px\n",
    "from PIL import Image\n",
    "import requests\n",
    "from io import BytesIO\n",
    "\n",
    "import warnings\n",
    "warnings.simplefilter(action='ignore', category=pd.errors.PerformanceWarning)"
   ]
  },
  {
   "cell_type": "code",
   "execution_count": null,
   "id": "c7fc07e0",
   "metadata": {},
   "outputs": [],
   "source": [
    "Kenya_path = Path('kenyausd final.csv')\n",
    "Russia_path = Path('russiausd final.csv')\n",
    "Singapore_path = Path('singaporeusd final.csv')\n",
    "Ukraine_path = Path('ukraineusd final.csv')\n",
    "Venezuela_path = Path('venusd final.csv')"
   ]
  },
  {
   "cell_type": "code",
   "execution_count": null,
   "id": "7162f4e5",
   "metadata": {},
   "outputs": [],
   "source": [
    "Kenya = pd.read_csv(Kenya_path, index_col='Date', parse_dates=True, infer_datetime_format=True)\n",
    "Russia= pd.read_csv(Russia_path, index_col='Date', parse_dates=True, infer_datetime_format=True)\n",
    "Singapore = pd.read_csv(Singapore_path, index_col='Date', parse_dates=True, infer_datetime_format=True)\n",
    "Ukraine = pd.read_csv(Ukraine_path, index_col='Date', parse_dates=True, infer_datetime_format=True)\n",
    "Venezuela = pd.read_csv(Venezuela_path, index_col='Date', parse_dates=True, infer_datetime_format=True)"
   ]
  },
  {
   "cell_type": "code",
   "execution_count": null,
   "id": "b68de3b1",
   "metadata": {},
   "outputs": [],
   "source": [
    "btc=pd.read_csv(\"BITSTAMP_BTCUSD, 1D.csv\", index_col=\"time\", infer_datetime_format=True, parse_dates=True)\n",
    "eth=pd.read_csv(\"COINBASE_ETHUSD, 1D.csv\", index_col=\"time\", infer_datetime_format=True, parse_dates=True)\n",
    "ltc=pd.read_csv(\"COINBASE_LTCUSD, 1D.csv\", index_col=\"time\", infer_datetime_format=True, parse_dates=True)\n",
    "dash=pd.read_csv(\"KRAKEN_DASHUSD, 1D.csv\", index_col=\"time\", infer_datetime_format=True, parse_dates=True)\n",
    "xmr=pd.read_csv(\"KRAKEN_XMRUSD, 1D.csv\", index_col=\"time\", infer_datetime_format=True, parse_dates=True)\n",
    "sp500= pd.read_csv(\"SP_SPX, 1D.csv\", index_col=\"time\", infer_datetime_format=True, parse_dates=True)\n",
    "dollar = pd.read_csv(\"TVC_DXY, 1D.csv\", index_col=\"time\", infer_datetime_format=True, parse_dates=True)"
   ]
  },
  {
   "cell_type": "code",
   "execution_count": null,
   "id": "9871152e",
   "metadata": {},
   "outputs": [],
   "source": [
    "btc = btc.drop(columns=[\"Plot\", \"Plot.1\", \"Plot.2\", \"Plot.3\", \"Plot.4\", \"Plot.5\", \"Plot.6\", \"Plot.7\", \"Jaw\", \"Teeth\", \"Lips\", \"RSI\",'open', 'high', 'low'])\n",
    "eth = eth.drop(columns=[\"Plot\", \"Plot.1\", \"Plot.2\", \"Plot.3\", \"Plot.4\", \"Plot.5\", \"Plot.6\", \"Plot.7\", \"Jaw\", \"Teeth\", \"Lips\", \"RSI\",'open', 'high', 'low'])\n",
    "ltc = ltc.drop(columns=[\"Plot\", \"Plot.1\", \"Plot.2\", \"Plot.3\", \"Plot.4\", \"Plot.5\", \"Plot.6\", \"Plot.7\", \"Jaw\", \"Teeth\", \"Lips\", \"RSI\",'open', 'high', 'low'])\n",
    "dash = dash.drop(columns=[\"Plot\", \"Plot.1\", \"Plot.2\", \"Plot.3\", \"Plot.4\", \"Plot.5\", \"Plot.6\", \"Plot.7\", \"Jaw\", \"Teeth\", \"Lips\", \"RSI\",'open', 'high', 'low'])\n",
    "xmr = xmr.drop(columns=[\"Plot\", \"Plot.1\", \"Plot.2\", \"Plot.3\", \"Plot.4\", \"Plot.5\", \"Plot.6\", \"Plot.7\", \"Jaw\", \"Teeth\", \"Lips\", \"RSI\",'open', 'high', 'low'])\n",
    "sp500 = sp500.drop(columns=[\"Plot\", \"Plot.1\", \"Plot.2\", \"Plot.3\", \"Plot.4\", \"Plot.5\", \"Plot.6\", \"Plot.7\", \"Jaw\", \"Teeth\", \"Lips\", \"RSI\",'open', 'high', 'low'])\n",
    "dollar = dollar.drop(columns=[\"Plot\", \"Plot.1\", \"Plot.2\", \"Plot.3\", \"Plot.4\", \"Plot.5\", \"Plot.6\", \"Plot.7\", \"Jaw\", \"Teeth\", \"Lips\", \"RSI\",'open', 'high', 'low'])"
   ]
  },
  {
   "cell_type": "code",
   "execution_count": null,
   "id": "826f8312",
   "metadata": {},
   "outputs": [],
   "source": [
    "crypto_all_no_dates = pd.concat([btc, eth, ltc, dash, xmr], axis=1, keys=[\"BTC\", \"ETH\", \"LTC\", \"DASH\", \"XMR\"])"
   ]
  },
  {
   "cell_type": "code",
   "execution_count": null,
   "id": "d4841145",
   "metadata": {},
   "outputs": [],
   "source": [
    "crypto_all = crypto_all_no_dates[~(crypto_all_no_dates.index < '2017-04-21')]\n",
    "crypto_all.index = crypto_all.index.date\n",
    "crypto_all = crypto_all.reset_index()\n",
    "crypto_all = crypto_all.groupby(['index']).sum()\n",
    "crypto_all = crypto_all.replace(0, np.nan)\n",
    "crypto_all = crypto_all.dropna()\n",
    "crypto_all.index.names = ['Date']\n",
    "\n",
    "\n",
    "sp500 = sp500[~(sp500.index < '2017-04-21')]\n",
    "sp500.index = sp500.index.date\n",
    "sp500.index.names = ['Date']\n",
    "\n",
    "dollar = dollar[~(dollar.index < '2017-04-21')]\n",
    "dollar.index = dollar.index.date\n",
    "dollar.index.names = ['Date']\n",
    "\n",
    "crypto_all"
   ]
  },
  {
   "cell_type": "code",
   "execution_count": null,
   "id": "af33c299",
   "metadata": {},
   "outputs": [],
   "source": [
    "concat = pd.concat([Kenya, Russia, Singapore, Ukraine, Venezuela], axis=1, keys=[\"KES\", \"RUB\", \"SGD\", \"UAH\", \"VES\"])\n",
    "Countries_currencies = concat[~(concat.index < '2017-04-21')] \n",
    "Countries_currencies = Countries_currencies.dropna()\n",
    "Countries_currencies"
   ]
  },
  {
   "cell_type": "code",
   "execution_count": null,
   "id": "5d974d3e",
   "metadata": {},
   "outputs": [],
   "source": [
    "# Picking smaller stocks\n",
    "small_monte_foreign = Countries_currencies[[\"KES\", \"UAH\", \"VES\"]]\n",
    "\n",
    "# Configure a Monte Carlo simulation to forecast 5 year of returns using BTC, ETH, and DASH\n",
    "MC_small_foreign = MCSimulation(\n",
    "    portfolio_data = small_monte_foreign,\n",
    "    weights = [.33, .33, .33],\n",
    "    num_simulation = 1000,\n",
    "    num_trading_days = 252*5\n",
    ")\n",
    "\n",
    "# Print the simulatino input data\n",
    "MC_small_foreign.portfolio_data.head()"
   ]
  },
  {
   "cell_type": "code",
   "execution_count": null,
   "id": "7185ea3e",
   "metadata": {},
   "outputs": [],
   "source": [
    "# Run a Monte Carlo Simulation to show five years of returns\n",
    "MC_small_foreign.calc_cumulative_return()"
   ]
  },
  {
   "cell_type": "code",
   "execution_count": null,
   "id": "f34b2531",
   "metadata": {},
   "outputs": [],
   "source": [
    "# Simulation outcomes\n",
    "line_plot_foreign = MC_small_foreign.plot_simulation()"
   ]
  },
  {
   "cell_type": "code",
   "execution_count": null,
   "id": "8a8ad29c",
   "metadata": {},
   "outputs": [],
   "source": [
    "# Probability distribution\n",
    "dist_plot_foreign = MC_small_foreign.plot_distribution()"
   ]
  },
  {
   "cell_type": "code",
   "execution_count": null,
   "id": "56955fc5",
   "metadata": {},
   "outputs": [],
   "source": [
    "# Fetch sumary statistics\n",
    "foreign_summ = MC_small_foreign.summarize_cumulative_return()\n",
    "print(foreign_summ)\n",
    "\n",
    "# Use the lower and upper `95%` confidence intervals to calculate the range of the possible outcomes of our $10,000 investments in stocks\n",
    "even_ci_lower = round(foreign_summ[8]*10000,2)\n",
    "even_ci_upper = round(foreign_summ[9]*10000,2)\n",
    "\n",
    "# Print results\n",
    "output_foreign_msg = f\"There is a 95% chance that an initial investment of $10,000 in a portfolio of these foreign currencies over the next 5 years will end within in the range of ${even_ci_lower} and ${even_ci_upper}.\"\n",
    "output_foreign_msg "
   ]
  },
  {
   "cell_type": "code",
   "execution_count": null,
   "id": "b80da482",
   "metadata": {},
   "outputs": [],
   "source": [
    "# Picking smaller stocks\n",
    "small_monte = crypto_all[[\"LTC\", \"DASH\", \"XMR\"]]\n",
    "\n",
    "# Configure a Monte Carlo simulation to forecast 5 year of returns using BTC, ETH, and DASH\n",
    "MC_small = MCSimulation(\n",
    "    portfolio_data = small_monte,\n",
    "    weights = [.33, .33, .33],\n",
    "    num_simulation = 1000,\n",
    "    num_trading_days = 252*5\n",
    ")\n",
    "\n",
    "# Print the simulatino input data\n",
    "MC_small.portfolio_data.head()"
   ]
  },
  {
   "cell_type": "code",
   "execution_count": null,
   "id": "74e92731",
   "metadata": {},
   "outputs": [],
   "source": [
    "# Run a Monte Carlo Simulation to show five years of returns\n",
    "MC_small.calc_cumulative_return()"
   ]
  },
  {
   "cell_type": "code",
   "execution_count": null,
   "id": "ec5e59f8",
   "metadata": {},
   "outputs": [],
   "source": [
    "small_line = MC_small.plot_simulation()"
   ]
  },
  {
   "cell_type": "code",
   "execution_count": null,
   "id": "62935bb4",
   "metadata": {},
   "outputs": [],
   "source": [
    "# Simulation outcomes\n",
    "small_plot = MC_small.plot_distribution()"
   ]
  },
  {
   "cell_type": "code",
   "execution_count": null,
   "id": "75d5de7e",
   "metadata": {},
   "outputs": [],
   "source": [
    "# Fetch sumary statistics\n",
    "small_summ = MC_small.summarize_cumulative_return()\n",
    "print(small_summ)"
   ]
  },
  {
   "cell_type": "code",
   "execution_count": null,
   "id": "7a913610",
   "metadata": {},
   "outputs": [],
   "source": [
    "# Use the lower and upper `95%` confidence intervals to calculate the range of the possible outcomes of our $10,000 investments in stocks\n",
    "lower_small = round(small_summ[8]*10000,2)\n",
    "upper_small = round(small_summ[9]*10000,2)\n",
    "\n",
    "# Print results\n",
    "output_crypto_msg = f\"There is a 95% chance that an initial investment of $10,000 in a portfolio of these cryptocurrencies over the next 5 years will end within in the range of ${lower_small} and ${upper_small}.\"\n",
    "output_crypto_msg"
   ]
  },
  {
   "cell_type": "code",
   "execution_count": null,
   "id": "e39f7485",
   "metadata": {},
   "outputs": [],
   "source": [
    "# Daily returns already calculated previously\n",
    "daily_returns = crypto_all.pct_change()\n",
    "daily_returns = daily_returns.dropna()\n",
    "\n",
    "# Calculate annualized volatility of stocks\n",
    "volatility = daily_returns.std() * np.sqrt(252)\n",
    "volatility.sort_values(inplace=True)"
   ]
  },
  {
   "cell_type": "code",
   "execution_count": null,
   "id": "c34976d0",
   "metadata": {},
   "outputs": [],
   "source": [
    "volatility_plot = volatility.plot(kind='bar',figsize=(20,10), title = \"Cryptocurrency Volatility\", xlabel=\"Cryptocurrencies\", ylabel= \"Volatility\", color=\"khaki\", rot = 0)\n",
    "print(\"The most volatile stocks you could purchase would be Litecoin, Dash, and Monero\")"
   ]
  },
  {
   "cell_type": "code",
   "execution_count": null,
   "id": "137ada71",
   "metadata": {},
   "outputs": [],
   "source": [
    "Countries = Countries_currencies.plot(figsize=(20,10), xlabel = \"Date\", ylabel = \"Currency in USD\", title = \"Foreign Currency Performance\")\n",
    "Countries.legend(['Kenyan Shilling', 'Russian Ruble', 'Singapore Dollar', 'Ukranian Hryvnia', 'Venezuelan Bolívar'])\n",
    "\n",
    "#All currencies"
   ]
  },
  {
   "cell_type": "code",
   "execution_count": null,
   "id": "54a4ae12",
   "metadata": {},
   "outputs": [],
   "source": [
    "Venplot = Venezuela.plot(color = \"Black\", kind='line', xlabel = \"Date\", ylabel = \"Currency in USD\", figsize=(20,10), title = \"Hyperflation of the Venezuelan Bolivar\")\n",
    "Venplot.legend(['Venezuelan Bolivar'])\n",
    "\n",
    "#Venezuela only"
   ]
  },
  {
   "cell_type": "code",
   "execution_count": null,
   "id": "1179c3da",
   "metadata": {},
   "outputs": [],
   "source": [
    "Russia_Ukr = pd.concat([Russia, Ukraine], axis=1)\n",
    "Russia_Ukr.dropna()\n",
    "columns = ['Ruble', 'Hryvnia']\n",
    "Russia_Ukr.columns = columns\n",
    "Russia_Ukr.plot(figsize=(20,10), xlabel = \"Date\", ylabel = \"Currency in USD\", title = \"2022 Russian invasion of Ukraine\", color =(\"black\",\"blue\"))\n",
    "\n",
    "#russia/ukraine only"
   ]
  },
  {
   "cell_type": "code",
   "execution_count": null,
   "id": "9582a91d",
   "metadata": {},
   "outputs": [],
   "source": [
    "Kenyaplot = Kenya.plot(figsize=(20,10), xlabel = \"Date\", ylabel = \"Currency in USD\", title = \"Kenya, a Developing Nation\", color = 'black')\n",
    "Kenyaplot.legend(['Kenyan Shilling'])\n",
    "\n",
    "#Kenya only"
   ]
  },
  {
   "cell_type": "code",
   "execution_count": null,
   "id": "6a0cb815",
   "metadata": {},
   "outputs": [],
   "source": [
    "crypto_plot = crypto_all.plot(figsize=(20,10), xlabel = \"Date\", ylabel = \"Currency in USD\", title = \"Cryptocurrency Performance\")\n",
    "crypto_plot.legend(['Bitcoin', 'Ethereum', 'Litecoin', 'Dash', 'Monero'])\n",
    "\n",
    "#General Overview"
   ]
  },
  {
   "cell_type": "code",
   "execution_count": null,
   "id": "dd9731ea",
   "metadata": {},
   "outputs": [],
   "source": [
    "crypto_no_bitcoin = pd.concat([eth, ltc, dash, xmr], axis=1, keys=[\"ETH\", \"LTC\", \"DASH\", \"XMR\"])\n",
    "crypto_no_bitcoin_dates = crypto_no_bitcoin[~(crypto_no_bitcoin.index < '2017-04-21')] "
   ]
  },
  {
   "cell_type": "code",
   "execution_count": null,
   "id": "eac9da09",
   "metadata": {},
   "outputs": [],
   "source": [
    "crypto_no_bitcoin_dates_plot = crypto_no_bitcoin_dates.plot(figsize=(20,10), xlabel = \"Date\", ylabel = \"Currency in USD\", title = \"Scaled Down Cryptocurrency Performance\")\n",
    "crypto_no_bitcoin_dates_plot.legend(['Ethereum', 'Litecoin', 'Dash', 'Monero'])\n",
    "\n",
    "\n",
    "#Can explain that Dash was as popular as Ethereum during their early days; however Ethereum exploded with NFTs"
   ]
  },
  {
   "cell_type": "code",
   "execution_count": null,
   "id": "e5a35565",
   "metadata": {},
   "outputs": [],
   "source": [
    "crypto_just_3_lowest = pd.concat([ltc, dash, xmr], axis=1, keys=[\"LTC\", \"DASH\", \"XMR\"])\n",
    "crypto_just_3_lowest_dates = crypto_just_3_lowest[~(crypto_just_3_lowest.index < '2017-04-21')] \n",
    "crypto_just_3_lowest_dates_plot = crypto_just_3_lowest_dates.plot(figsize=(20,10), xlabel = \"Date\", ylabel = \"Currency in USD\", title = \"Moderate Performing Cryptocurrencies\")\n",
    "crypto_just_3_lowest_dates_plot.legend(['Litecoin', 'Dash', 'Monero'])\n",
    "\n",
    "#can use side by side with 3 developing to show how much more volatility"
   ]
  },
  {
   "cell_type": "code",
   "execution_count": null,
   "id": "61ea6520",
   "metadata": {},
   "outputs": [],
   "source": [
    "developing = pd.concat([Kenya, Ukraine, Venezuela], axis=1, keys=[\"KES\", \"UAH\", \"VES\"])\n",
    "Countries_currencies_clean = developing[~(developing.index < '2017-04-21')] \n",
    "Countries_currencies_plot = Countries_currencies_clean.plot(figsize=(20,10), xlabel = \"Date\", ylabel = \"Currency in USD\", title = \"Developing Currency Performance\")\n",
    "Countries_currencies_plot.legend(['Kenyan Shilling', 'Ukranian Hryvnia', 'Venezuelan Bolívar'])\n",
    "\n",
    "#can use side by side with 3 crypto to show how little change is seen with these currencies"
   ]
  },
  {
   "cell_type": "code",
   "execution_count": null,
   "id": "3d0b9318",
   "metadata": {},
   "outputs": [],
   "source": [
    "df = pd.read_csv(\"World Usage.csv\").drop_duplicates()\n",
    "data_to_plot = df[[\"Country\", \"Percentage of population\", \"Latitude\", \"Longitude\"]]\n",
    "df.index = df['Country']\n",
    "\n",
    "y=df['Percentage of population']\n",
    "bar = df['Percentage of population'].nlargest(n=5).plot(color = \"khaki\", kind='bar', xlabel = \"Country Name\", ylabel = \"Percentage of Population\", figsize=(20,10), title = \"Top 5 Nations With Cryptocurrency Ownership Based on Percentage Population\", rot='horizontal')\n",
    "bar.text(0,y[0],\"12.73%\",ha=\"center\",va=\"bottom\")\n",
    "bar.text(1,y[1],\"11.91%\",ha=\"center\",va=\"bottom\")\n",
    "bar.text(2,y[2],\"10.34%\",ha=\"center\",va=\"bottom\")\n",
    "bar.text(3,y[3],\"9.4%\",ha=\"center\",va=\"bottom\")\n",
    "bar.text(4,y[4],\"8.52%\",ha=\"center\",va=\"bottom\")\n"
   ]
  },
  {
   "cell_type": "code",
   "execution_count": null,
   "id": "3fe9a8e5",
   "metadata": {},
   "outputs": [],
   "source": [
    "# Read the Mapbox API key\n",
    "load_dotenv()\n",
    "map_box_api = os.getenv(\"mapbox\")\n",
    "\n",
    "# Set the Mapbox API\n",
    "px.set_mapbox_access_token(map_box_api)"
   ]
  },
  {
   "cell_type": "code",
   "execution_count": null,
   "id": "c97d5833",
   "metadata": {},
   "outputs": [],
   "source": [
    "# Plot Data\n",
    "map_plot = px.scatter_mapbox(\n",
    "    data_to_plot,\n",
    "    lat=\"Latitude\",\n",
    "    lon=\"Longitude\",\n",
    "    size=\"Percentage of population\",\n",
    "    color=\"Country\",\n",
    "    zoom=0.2,\n",
    "    mapbox_style = 'satellite',\n",
    "    height = 1000,\n",
    "    width = 1000,\n",
    "    title = \"Percentage of Crypto Owners by Country\"\n",
    ")\n",
    "\n",
    "# Display the map\n",
    "map_final = map_plot.show()\n",
    "map_final"
   ]
  },
  {
   "cell_type": "code",
   "execution_count": null,
   "id": "0302e982",
   "metadata": {},
   "outputs": [],
   "source": [
    "dollar.index = pd.to_datetime(dollar.index, utc=True) \n",
    "Countries_currencies.index = pd.to_datetime(Countries_currencies.index, utc=True)\n",
    "country_usd = pd.concat([Countries_currencies,dollar], axis=1)\n",
    "country_usd.dropna()\n",
    "country_usd_corr = country_usd.corr()\n",
    "x_labels = ['KES', 'RUB', 'SDG', 'UAH', 'VES', 'US Dollar Index']\n",
    "country_heatmap = sns.heatmap(country_usd_corr, vmin=-1, vmax=1, xticklabels = x_labels, yticklabels = x_labels)\n",
    "country_heatmap.set_title('Correlation Between Foreign Currencies and the U.S. Dollar Index')\n",
    "country_heatmap.set_xlabel('Currency')\n",
    "country_heatmap.set_ylabel('Currency')\n",
    "\n",
    "\n",
    "country_usd_corr\n",
    "#can explain how russia and ukraine have been correlated (2nd box of KES) or how Kenya is somehow a little correlated, idk"
   ]
  },
  {
   "cell_type": "code",
   "execution_count": null,
   "id": "ae47db1a",
   "metadata": {},
   "outputs": [],
   "source": [
    "crypto_all.index = pd.to_datetime(crypto_all.index, utc=True) \n",
    "dollar.index = pd.to_datetime(dollar.index, utc=True) \n",
    "Countries_currencies.index = pd.to_datetime(Countries_currencies.index, utc=True)\n",
    "crypto_Countries_index = pd.concat([crypto_all,Countries_currencies, dollar], axis=1)\n",
    "crypto_Countries_index.dropna()\n",
    "all_correlation_index = crypto_Countries_index.corr()\n",
    "x_labels_for_index = ['BTC','ETH','LTC','DASH','XMR','KES', 'RUB', 'SDG', 'UAH', 'VES', 'U.S. Dollar Index']\n",
    "all_currency_map_index = sns.heatmap(all_correlation_index, vmin=-1, vmax=1, xticklabels = x_labels_for_index, yticklabels = x_labels_for_index)\n",
    "all_currency_map_index.set_title('Correlation Between Foreign Currencies, Cryptocurrencies, and the U.S. Dollar Index')\n",
    "all_currency_map_index.set_xlabel('Currency')\n",
    "all_currency_map_index.set_ylabel('Currency')\n",
    "#idk what to do with this, maybe that btc and eth are related to sp500 "
   ]
  },
  {
   "cell_type": "code",
   "execution_count": null,
   "id": "f32e60d6",
   "metadata": {},
   "outputs": [],
   "source": [
    "crypto_all.index = pd.to_datetime(crypto_all.index, utc=True) \n",
    "sp500.index = pd.to_datetime(sp500.index, utc=True) \n",
    "crypto_sp500 = pd.concat([crypto_all,sp500], axis=1)\n",
    "crypto_sp500.dropna()\n",
    "all_correlation = crypto_sp500.corr()\n",
    "x_labels_for_all = ['BTC','ETH','LTC','DASH','XMR','S&P 500']\n",
    "crypto_sp500_map = sns.heatmap(all_correlation, vmin=-1, vmax=1, xticklabels = x_labels_for_all, yticklabels = x_labels_for_all)\n",
    "crypto_sp500_map.set_title('Correlation Between S&P 500 and Cryptocurrency')\n",
    "crypto_sp500_map.set_xlabel('Currency')\n",
    "crypto_sp500_map.set_ylabel('Currency')\n",
    "\n",
    "\n",
    "#idk what to do with this"
   ]
  },
  {
   "cell_type": "code",
   "execution_count": null,
   "id": "bfa64cd3",
   "metadata": {},
   "outputs": [],
   "source": [
    "#import images\n",
    "\n",
    "foreign_monte_img = requests.get('https://i.gyazo.com/8e86dc3887d4e5c6e49c71228357a220.png')\n",
    "foreign_img = Image.open(BytesIO(foreign_monte_img.content))\n",
    "foreign_print = output_foreign_msg\n",
    "foreign_rows = pn.Row(foreign_img, foreign_print)\n",
    "\n",
    "crypto_monte_img = requests.get('https://i.gyazo.com/93b0ad1f5f52dc9978c8691db482b097.png')\n",
    "crypto_img = Image.open(BytesIO(crypto_monte_img.content))\n",
    "crypto_print = output_crypto_msg\n",
    "crypto_rows = pn.Row(crypto_img, crypto_print)\n",
    "\n",
    "country_heatmap_img = requests.get('https://i.gyazo.com/2dea056ef734a2c78c7f3ef5a91f1fd9.png')\n",
    "country_heatmap_imgfinal = Image.open(BytesIO(country_heatmap_img.content))\n",
    "country_heatmap_text = \"We see that the U.S. Dollar Index, determined by other foreign major currencies, is strongly negatively correlated with the Singapore Dollar. When the U.S. Dollar Index appreciates, the Singapore Dollar is expected to depreciate, and vice verca.\"\n",
    "country_heatmap_rows = pn.Row(country_heatmap_imgfinal, country_heatmap_text)\n",
    "\n",
    "crypto_sp500_map_img = requests.get('https://i.gyazo.com/85031d40549fd3bd9a3e3534938ad13b.png')\n",
    "crypto_sp500_map_imgfinal = Image.open(BytesIO(crypto_sp500_map_img.content))\n",
    "crypto_sp500_map_text = \"We see that the S&P 500, an index of major American companies, is strongly positively correlated with Bitcoin. When the value of Bitcoin appreciates, the S&P 500 is expected to appreciate, and vice verca.\"\n",
    "crypto_sp500_map_rows = pn.Row(crypto_sp500_map_imgfinal, crypto_sp500_map_text)\n",
    "\n",
    "\n",
    "all_currency_map_index_img = requests.get('https://i.gyazo.com/fce34dc3378dce0e5702749880825467.png')\n",
    "all_currency_map_index_imgfinal = Image.open(BytesIO(all_currency_map_index_img.content))\n",
    "all_currency_map_index_text = \"We see that the Kenyan Shilling is strongly negatively correlated with Bitcoin. When the value of Bitcoin appreciates, the Kenyan Shilling is expected to depreciate, and vice verca.\"\n",
    "all_currency_map_index_rows = pn.Row(all_currency_map_index_imgfinal, all_currency_map_index_text)\n",
    "\n",
    "tabs=pn.Tabs(\n",
    "(\"Foreign Monte Carlo\", foreign_rows),\n",
    "(\"Crypto Monte Carlo\", crypto_rows),\n",
    "(\"Correlation between foreign currencies and U.S. Dollar Index\", country_heatmap_rows),\n",
    "(\"Correlation between cryptocurrencies and S&P 500\", crypto_sp500_map_imgfinal),\n",
    "(\"Correlation between all currencies and U.S. Dollar Index\", all_currency_map_index_imgfinal)\n",
    ")\n",
    "\n",
    "tabs"
   ]
  },
  {
   "cell_type": "code",
   "execution_count": null,
   "id": "5a1b9a46",
   "metadata": {},
   "outputs": [],
   "source": []
  }
 ],
 "metadata": {
  "kernelspec": {
   "display_name": "Python 3 (ipykernel)",
   "language": "python",
   "name": "python3"
  },
  "language_info": {
   "codemirror_mode": {
    "name": "ipython",
    "version": 3
   },
   "file_extension": ".py",
   "mimetype": "text/x-python",
   "name": "python",
   "nbconvert_exporter": "python",
   "pygments_lexer": "ipython3",
   "version": "3.7.11"
  }
 },
 "nbformat": 4,
 "nbformat_minor": 5
}
